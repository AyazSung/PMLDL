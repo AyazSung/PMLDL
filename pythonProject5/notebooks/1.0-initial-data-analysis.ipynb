{
 "cells": [
  {
   "cell_type": "markdown",
   "source": [
    "## INITIAL DATA ANALYSIS "
   ],
   "metadata": {
    "collapsed": false
   },
   "id": "7898a71bb8340bb4"
  },
  {
   "cell_type": "code",
   "execution_count": 10,
   "outputs": [],
   "source": [
    "import pandas as pd"
   ],
   "metadata": {
    "collapsed": false,
    "ExecuteTime": {
     "end_time": "2023-11-05T15:57:50.749997300Z",
     "start_time": "2023-11-05T15:57:50.657027100Z"
    }
   },
   "id": "7c3630d5c9f1f470"
  },
  {
   "cell_type": "code",
   "execution_count": 11,
   "outputs": [],
   "source": [
    "#read data\n",
    "df = pd.read_csv('../data/raw_filtered.tsv', sep='\\t')"
   ],
   "metadata": {
    "collapsed": false,
    "ExecuteTime": {
     "end_time": "2023-11-05T15:57:53.270260400Z",
     "start_time": "2023-11-05T15:57:50.668557Z"
    }
   },
   "id": "87725f8fe8222677"
  },
  {
   "cell_type": "code",
   "execution_count": 12,
   "outputs": [
    {
     "data": {
      "text/plain": "   Unnamed: 0                                          reference  \\\n0           0  If Alkar is flooding her with psychic waste, t...   \n1           1                          Now you're getting nasty.   \n2           2           Well, we could spare your life, for one.   \n3           3          Ah! Monkey, you've got to snap out of it.   \n4           4                   I've got orders to put her down.   \n\n                                         translation  similarity  lenght_diff  \\\n0  if Alkar floods her with her mental waste, it ...    0.785171     0.010309   \n1                        you're becoming disgusting.    0.749687     0.071429   \n2                      well, we can spare your life.    0.919051     0.268293   \n3                       monkey, you have to wake up.    0.664333     0.309524   \n4                         I have orders to kill her.    0.726639     0.181818   \n\n    ref_tox   trn_tox  \n0  0.014195  0.981983  \n1  0.065473  0.999039  \n2  0.213313  0.985068  \n3  0.053362  0.994215  \n4  0.009402  0.999348  ",
      "text/html": "<div>\n<style scoped>\n    .dataframe tbody tr th:only-of-type {\n        vertical-align: middle;\n    }\n\n    .dataframe tbody tr th {\n        vertical-align: top;\n    }\n\n    .dataframe thead th {\n        text-align: right;\n    }\n</style>\n<table border=\"1\" class=\"dataframe\">\n  <thead>\n    <tr style=\"text-align: right;\">\n      <th></th>\n      <th>Unnamed: 0</th>\n      <th>reference</th>\n      <th>translation</th>\n      <th>similarity</th>\n      <th>lenght_diff</th>\n      <th>ref_tox</th>\n      <th>trn_tox</th>\n    </tr>\n  </thead>\n  <tbody>\n    <tr>\n      <th>0</th>\n      <td>0</td>\n      <td>If Alkar is flooding her with psychic waste, t...</td>\n      <td>if Alkar floods her with her mental waste, it ...</td>\n      <td>0.785171</td>\n      <td>0.010309</td>\n      <td>0.014195</td>\n      <td>0.981983</td>\n    </tr>\n    <tr>\n      <th>1</th>\n      <td>1</td>\n      <td>Now you're getting nasty.</td>\n      <td>you're becoming disgusting.</td>\n      <td>0.749687</td>\n      <td>0.071429</td>\n      <td>0.065473</td>\n      <td>0.999039</td>\n    </tr>\n    <tr>\n      <th>2</th>\n      <td>2</td>\n      <td>Well, we could spare your life, for one.</td>\n      <td>well, we can spare your life.</td>\n      <td>0.919051</td>\n      <td>0.268293</td>\n      <td>0.213313</td>\n      <td>0.985068</td>\n    </tr>\n    <tr>\n      <th>3</th>\n      <td>3</td>\n      <td>Ah! Monkey, you've got to snap out of it.</td>\n      <td>monkey, you have to wake up.</td>\n      <td>0.664333</td>\n      <td>0.309524</td>\n      <td>0.053362</td>\n      <td>0.994215</td>\n    </tr>\n    <tr>\n      <th>4</th>\n      <td>4</td>\n      <td>I've got orders to put her down.</td>\n      <td>I have orders to kill her.</td>\n      <td>0.726639</td>\n      <td>0.181818</td>\n      <td>0.009402</td>\n      <td>0.999348</td>\n    </tr>\n  </tbody>\n</table>\n</div>"
     },
     "execution_count": 12,
     "metadata": {},
     "output_type": "execute_result"
    }
   ],
   "source": [
    "df.head()"
   ],
   "metadata": {
    "collapsed": false,
    "ExecuteTime": {
     "end_time": "2023-11-05T15:57:53.333930400Z",
     "start_time": "2023-11-05T15:57:53.267177800Z"
    }
   },
   "id": "468e9d362c67b36c"
  },
  {
   "cell_type": "code",
   "execution_count": 13,
   "outputs": [
    {
     "name": "stdout",
     "output_type": "stream",
     "text": [
      "<class 'pandas.core.frame.DataFrame'>\n",
      "RangeIndex: 577777 entries, 0 to 577776\n",
      "Data columns (total 7 columns):\n",
      " #   Column       Non-Null Count   Dtype  \n",
      "---  ------       --------------   -----  \n",
      " 0   Unnamed: 0   577777 non-null  int64  \n",
      " 1   reference    577777 non-null  object \n",
      " 2   translation  577777 non-null  object \n",
      " 3   similarity   577777 non-null  float64\n",
      " 4   lenght_diff  577777 non-null  float64\n",
      " 5   ref_tox      577777 non-null  float64\n",
      " 6   trn_tox      577777 non-null  float64\n",
      "dtypes: float64(4), int64(1), object(2)\n",
      "memory usage: 30.9+ MB\n"
     ]
    }
   ],
   "source": [
    "df.info()"
   ],
   "metadata": {
    "collapsed": false,
    "ExecuteTime": {
     "end_time": "2023-11-05T15:57:53.530109Z",
     "start_time": "2023-11-05T15:57:53.299260900Z"
    }
   },
   "id": "4e49808f7e80d743"
  },
  {
   "cell_type": "markdown",
   "source": [
    "## [DATA PREPROCESSING]()"
   ],
   "metadata": {
    "collapsed": false
   },
   "id": "913aa73491b267c0"
  },
  {
   "cell_type": "markdown",
   "source": [
    "#### [TEXT CLEANING AND NORMALIZATION]()"
   ],
   "metadata": {
    "collapsed": false
   },
   "id": "1191a0bc0701d291"
  },
  {
   "cell_type": "code",
   "execution_count": 14,
   "outputs": [
    {
     "name": "stderr",
     "output_type": "stream",
     "text": [
      "[nltk_data] Downloading package stopwords to\n",
      "[nltk_data]     C:\\Users\\SunagatullinAyaz\\AppData\\Roaming\\nltk_data...\n",
      "[nltk_data]   Package stopwords is already up-to-date!\n",
      "[nltk_data] Downloading package punkt to\n",
      "[nltk_data]     C:\\Users\\SunagatullinAyaz\\AppData\\Roaming\\nltk_data...\n",
      "[nltk_data]   Package punkt is already up-to-date!\n",
      "[nltk_data] Downloading package wordnet to\n",
      "[nltk_data]     C:\\Users\\SunagatullinAyaz\\AppData\\Roaming\\nltk_data...\n",
      "[nltk_data]   Package wordnet is already up-to-date!\n"
     ]
    }
   ],
   "source": [
    "import re\n",
    "import nltk\n",
    "from nltk.corpus import stopwords\n",
    "from nltk.stem import WordNetLemmatizer\n",
    "from nltk.tokenize import word_tokenize\n",
    "from nltk.corpus import wordnet\n",
    "from nltk.corpus import stopwords\n",
    "from nltk.stem import WordNetLemmatizer\n",
    "\n",
    "nltk.download('stopwords')\n",
    "nltk.download('punkt')\n",
    "nltk.download('wordnet')\n",
    "\n",
    "stop_words = set(stopwords.words('english'))\n",
    "lemmatizer = WordNetLemmatizer()\n",
    "\n",
    "def clean_text(text):\n",
    "    text = text.lower()\n",
    "    text = re.sub(r'[^a-zA-Z0-9\\s]', ' ', text)\n",
    "    text = re.sub(r'\\s+', ' ', text)\n",
    "    text = text.strip()\n",
    "    return text\n",
    "\n",
    "def remove_stopwords(text):\n",
    "    tokens = word_tokenize(text)\n",
    "    filtered_tokens = [token for token in tokens if token not in stop_words]\n",
    "    filtered_text = ' '.join(filtered_tokens)\n",
    "    return filtered_text\n",
    "\n",
    "def lemmatize_text(text):\n",
    "    tokens = word_tokenize(text)\n",
    "    lemmatized_tokens = [lemmatizer.lemmatize(token, pos='v') for token in tokens]\n",
    "    lemmatized_text = ' '.join(lemmatized_tokens)\n",
    "    return lemmatized_text\n",
    "\n",
    "def preprocess_text(text):\n",
    "    text = clean_text(text)\n",
    "    text = remove_stopwords(text)\n",
    "    text = lemmatize_text(text)\n",
    "    return text"
   ],
   "metadata": {
    "collapsed": false,
    "ExecuteTime": {
     "end_time": "2023-11-05T15:57:53.537630200Z",
     "start_time": "2023-11-05T15:57:53.382823Z"
    }
   },
   "id": "b2f862d5be374df7"
  },
  {
   "cell_type": "code",
   "execution_count": 15,
   "outputs": [],
   "source": [
    "df['reference'] = df['reference'].apply(preprocess_text)\n",
    "df['translation'] = df['translation'].apply(preprocess_text)"
   ],
   "metadata": {
    "collapsed": false,
    "ExecuteTime": {
     "end_time": "2023-11-05T16:02:03.484426900Z",
     "start_time": "2023-11-05T15:57:53.393359500Z"
    }
   },
   "id": "64bdcd15f2e2ba"
  },
  {
   "cell_type": "code",
   "execution_count": 16,
   "outputs": [],
   "source": [
    "# save as \"cleaned\" file\n",
    "df.to_csv('../data/inter_cleaned.tsv', sep='\\t', index=False)"
   ],
   "metadata": {
    "collapsed": false,
    "ExecuteTime": {
     "end_time": "2023-11-05T16:02:07.382900900Z",
     "start_time": "2023-11-05T16:02:03.487436100Z"
    }
   },
   "id": "83ea49f24041082"
  },
  {
   "cell_type": "code",
   "execution_count": 17,
   "outputs": [],
   "source": [
    "cleaned = pd.read_csv('../data/inter_cleaned.tsv', sep='\\t')"
   ],
   "metadata": {
    "collapsed": false,
    "ExecuteTime": {
     "end_time": "2023-11-05T16:02:08.579108Z",
     "start_time": "2023-11-05T16:02:07.384900900Z"
    }
   },
   "id": "36bf161dfd697a0e"
  },
  {
   "cell_type": "code",
   "execution_count": 18,
   "outputs": [],
   "source": [
    "cleaned.drop(\"Unnamed: 0\", axis=1, inplace=True)"
   ],
   "metadata": {
    "collapsed": false,
    "ExecuteTime": {
     "end_time": "2023-11-05T16:02:08.642269400Z",
     "start_time": "2023-11-05T16:02:08.605283700Z"
    }
   },
   "id": "364f7fceafbfaefd"
  },
  {
   "cell_type": "code",
   "execution_count": 19,
   "outputs": [
    {
     "data": {
      "text/plain": "                                           reference  \\\n0  alkar flood psychic waste explain high level n...   \n1                                          get nasty   \n2                          well could spare life one   \n3                                 ah monkey get snap   \n4                                      get order put   \n\n                                         translation  similarity  lenght_diff  \\\n0  alkar flood mental waste would explain high le...    0.785171     0.010309   \n1                                     become disgust    0.749687     0.071429   \n2                                    well spare life    0.919051     0.268293   \n3                                        monkey wake    0.664333     0.309524   \n4                                         order kill    0.726639     0.181818   \n\n    ref_tox   trn_tox  \n0  0.014195  0.981983  \n1  0.065473  0.999039  \n2  0.213313  0.985068  \n3  0.053362  0.994215  \n4  0.009402  0.999348  ",
      "text/html": "<div>\n<style scoped>\n    .dataframe tbody tr th:only-of-type {\n        vertical-align: middle;\n    }\n\n    .dataframe tbody tr th {\n        vertical-align: top;\n    }\n\n    .dataframe thead th {\n        text-align: right;\n    }\n</style>\n<table border=\"1\" class=\"dataframe\">\n  <thead>\n    <tr style=\"text-align: right;\">\n      <th></th>\n      <th>reference</th>\n      <th>translation</th>\n      <th>similarity</th>\n      <th>lenght_diff</th>\n      <th>ref_tox</th>\n      <th>trn_tox</th>\n    </tr>\n  </thead>\n  <tbody>\n    <tr>\n      <th>0</th>\n      <td>alkar flood psychic waste explain high level n...</td>\n      <td>alkar flood mental waste would explain high le...</td>\n      <td>0.785171</td>\n      <td>0.010309</td>\n      <td>0.014195</td>\n      <td>0.981983</td>\n    </tr>\n    <tr>\n      <th>1</th>\n      <td>get nasty</td>\n      <td>become disgust</td>\n      <td>0.749687</td>\n      <td>0.071429</td>\n      <td>0.065473</td>\n      <td>0.999039</td>\n    </tr>\n    <tr>\n      <th>2</th>\n      <td>well could spare life one</td>\n      <td>well spare life</td>\n      <td>0.919051</td>\n      <td>0.268293</td>\n      <td>0.213313</td>\n      <td>0.985068</td>\n    </tr>\n    <tr>\n      <th>3</th>\n      <td>ah monkey get snap</td>\n      <td>monkey wake</td>\n      <td>0.664333</td>\n      <td>0.309524</td>\n      <td>0.053362</td>\n      <td>0.994215</td>\n    </tr>\n    <tr>\n      <th>4</th>\n      <td>get order put</td>\n      <td>order kill</td>\n      <td>0.726639</td>\n      <td>0.181818</td>\n      <td>0.009402</td>\n      <td>0.999348</td>\n    </tr>\n  </tbody>\n</table>\n</div>"
     },
     "execution_count": 19,
     "metadata": {},
     "output_type": "execute_result"
    }
   ],
   "source": [
    "cleaned.head()"
   ],
   "metadata": {
    "collapsed": false,
    "ExecuteTime": {
     "end_time": "2023-11-05T16:02:08.667868600Z",
     "start_time": "2023-11-05T16:02:08.644269100Z"
    }
   },
   "id": "2b393f74f8f6540c"
  },
  {
   "cell_type": "markdown",
   "source": [
    "#### [Handling NONE]()"
   ],
   "metadata": {
    "collapsed": false
   },
   "id": "a73ee7ebd8f3a310"
  },
  {
   "cell_type": "code",
   "execution_count": 20,
   "outputs": [],
   "source": [
    "# delete rows with NONE\n",
    "cleaned = cleaned[cleaned['reference'].notna()]\n",
    "cleaned = cleaned[cleaned['translation'].notna()]"
   ],
   "metadata": {
    "collapsed": false,
    "ExecuteTime": {
     "end_time": "2023-11-05T16:02:08.844623500Z",
     "start_time": "2023-11-05T16:02:08.680393Z"
    }
   },
   "id": "848573553d603911"
  },
  {
   "cell_type": "code",
   "execution_count": 21,
   "outputs": [
    {
     "data": {
      "text/plain": "                                           reference  \\\n0  alkar flood psychic waste explain high level n...   \n1                                          get nasty   \n2                          well could spare life one   \n3                                 ah monkey get snap   \n4                                      get order put   \n\n                                         translation  similarity  lenght_diff  \\\n0  alkar flood mental waste would explain high le...    0.785171     0.010309   \n1                                     become disgust    0.749687     0.071429   \n2                                    well spare life    0.919051     0.268293   \n3                                        monkey wake    0.664333     0.309524   \n4                                         order kill    0.726639     0.181818   \n\n    ref_tox   trn_tox  ref_len  trn_len  \n0  0.014195  0.981983        8        9  \n1  0.065473  0.999039        2        2  \n2  0.213313  0.985068        5        3  \n3  0.053362  0.994215        4        2  \n4  0.009402  0.999348        3        2  ",
      "text/html": "<div>\n<style scoped>\n    .dataframe tbody tr th:only-of-type {\n        vertical-align: middle;\n    }\n\n    .dataframe tbody tr th {\n        vertical-align: top;\n    }\n\n    .dataframe thead th {\n        text-align: right;\n    }\n</style>\n<table border=\"1\" class=\"dataframe\">\n  <thead>\n    <tr style=\"text-align: right;\">\n      <th></th>\n      <th>reference</th>\n      <th>translation</th>\n      <th>similarity</th>\n      <th>lenght_diff</th>\n      <th>ref_tox</th>\n      <th>trn_tox</th>\n      <th>ref_len</th>\n      <th>trn_len</th>\n    </tr>\n  </thead>\n  <tbody>\n    <tr>\n      <th>0</th>\n      <td>alkar flood psychic waste explain high level n...</td>\n      <td>alkar flood mental waste would explain high le...</td>\n      <td>0.785171</td>\n      <td>0.010309</td>\n      <td>0.014195</td>\n      <td>0.981983</td>\n      <td>8</td>\n      <td>9</td>\n    </tr>\n    <tr>\n      <th>1</th>\n      <td>get nasty</td>\n      <td>become disgust</td>\n      <td>0.749687</td>\n      <td>0.071429</td>\n      <td>0.065473</td>\n      <td>0.999039</td>\n      <td>2</td>\n      <td>2</td>\n    </tr>\n    <tr>\n      <th>2</th>\n      <td>well could spare life one</td>\n      <td>well spare life</td>\n      <td>0.919051</td>\n      <td>0.268293</td>\n      <td>0.213313</td>\n      <td>0.985068</td>\n      <td>5</td>\n      <td>3</td>\n    </tr>\n    <tr>\n      <th>3</th>\n      <td>ah monkey get snap</td>\n      <td>monkey wake</td>\n      <td>0.664333</td>\n      <td>0.309524</td>\n      <td>0.053362</td>\n      <td>0.994215</td>\n      <td>4</td>\n      <td>2</td>\n    </tr>\n    <tr>\n      <th>4</th>\n      <td>get order put</td>\n      <td>order kill</td>\n      <td>0.726639</td>\n      <td>0.181818</td>\n      <td>0.009402</td>\n      <td>0.999348</td>\n      <td>3</td>\n      <td>2</td>\n    </tr>\n  </tbody>\n</table>\n</div>"
     },
     "execution_count": 21,
     "metadata": {},
     "output_type": "execute_result"
    }
   ],
   "source": [
    "# show length of reference and translation\n",
    "cleaned['ref_len'] = cleaned['reference'].apply(lambda x: len(x.split()))\n",
    "cleaned['trn_len'] = cleaned['translation'].apply(lambda x: len(x.split()))\n",
    "\n",
    "\n",
    "cleaned.head()"
   ],
   "metadata": {
    "collapsed": false,
    "ExecuteTime": {
     "end_time": "2023-11-05T16:02:09.927309800Z",
     "start_time": "2023-11-05T16:02:08.834094500Z"
    }
   },
   "id": "1f01564f58a0235c"
  },
  {
   "cell_type": "markdown",
   "source": [
    "#### [HANDLING NUMERICAL VALUES]()"
   ],
   "metadata": {
    "collapsed": false
   },
   "id": "f43f0f58559aed00"
  },
  {
   "cell_type": "code",
   "execution_count": 22,
   "outputs": [],
   "source": [
    "# replace numerical values with token \"num\"\n",
    "cleaned['reference'] = cleaned['reference'].str.replace('\\d+', 'num')\n",
    "cleaned['translation'] = cleaned['translation'].str.replace('\\d+', 'num')"
   ],
   "metadata": {
    "collapsed": false,
    "ExecuteTime": {
     "end_time": "2023-11-05T16:02:10.374874800Z",
     "start_time": "2023-11-05T16:02:09.925305Z"
    }
   },
   "id": "53d63d34565c69d3"
  },
  {
   "cell_type": "code",
   "execution_count": 23,
   "outputs": [],
   "source": [
    "#cleaned = cleaned.drop(['ref_len', 'trn_len'], axis=1)"
   ],
   "metadata": {
    "collapsed": false,
    "ExecuteTime": {
     "end_time": "2023-11-05T16:02:10.396961600Z",
     "start_time": "2023-11-05T16:02:10.379878Z"
    }
   },
   "id": "4d61f1d9263340b4"
  },
  {
   "cell_type": "code",
   "execution_count": 24,
   "outputs": [
    {
     "data": {
      "text/plain": "                                           reference  \\\n0  alkar flood psychic waste explain high level n...   \n1                                          get nasty   \n2                          well could spare life one   \n3                                 ah monkey get snap   \n4                                      get order put   \n\n                                         translation  similarity  lenght_diff  \\\n0  alkar flood mental waste would explain high le...    0.785171     0.010309   \n1                                     become disgust    0.749687     0.071429   \n2                                    well spare life    0.919051     0.268293   \n3                                        monkey wake    0.664333     0.309524   \n4                                         order kill    0.726639     0.181818   \n\n    ref_tox   trn_tox  ref_len  trn_len  \n0  0.014195  0.981983        8        9  \n1  0.065473  0.999039        2        2  \n2  0.213313  0.985068        5        3  \n3  0.053362  0.994215        4        2  \n4  0.009402  0.999348        3        2  ",
      "text/html": "<div>\n<style scoped>\n    .dataframe tbody tr th:only-of-type {\n        vertical-align: middle;\n    }\n\n    .dataframe tbody tr th {\n        vertical-align: top;\n    }\n\n    .dataframe thead th {\n        text-align: right;\n    }\n</style>\n<table border=\"1\" class=\"dataframe\">\n  <thead>\n    <tr style=\"text-align: right;\">\n      <th></th>\n      <th>reference</th>\n      <th>translation</th>\n      <th>similarity</th>\n      <th>lenght_diff</th>\n      <th>ref_tox</th>\n      <th>trn_tox</th>\n      <th>ref_len</th>\n      <th>trn_len</th>\n    </tr>\n  </thead>\n  <tbody>\n    <tr>\n      <th>0</th>\n      <td>alkar flood psychic waste explain high level n...</td>\n      <td>alkar flood mental waste would explain high le...</td>\n      <td>0.785171</td>\n      <td>0.010309</td>\n      <td>0.014195</td>\n      <td>0.981983</td>\n      <td>8</td>\n      <td>9</td>\n    </tr>\n    <tr>\n      <th>1</th>\n      <td>get nasty</td>\n      <td>become disgust</td>\n      <td>0.749687</td>\n      <td>0.071429</td>\n      <td>0.065473</td>\n      <td>0.999039</td>\n      <td>2</td>\n      <td>2</td>\n    </tr>\n    <tr>\n      <th>2</th>\n      <td>well could spare life one</td>\n      <td>well spare life</td>\n      <td>0.919051</td>\n      <td>0.268293</td>\n      <td>0.213313</td>\n      <td>0.985068</td>\n      <td>5</td>\n      <td>3</td>\n    </tr>\n    <tr>\n      <th>3</th>\n      <td>ah monkey get snap</td>\n      <td>monkey wake</td>\n      <td>0.664333</td>\n      <td>0.309524</td>\n      <td>0.053362</td>\n      <td>0.994215</td>\n      <td>4</td>\n      <td>2</td>\n    </tr>\n    <tr>\n      <th>4</th>\n      <td>get order put</td>\n      <td>order kill</td>\n      <td>0.726639</td>\n      <td>0.181818</td>\n      <td>0.009402</td>\n      <td>0.999348</td>\n      <td>3</td>\n      <td>2</td>\n    </tr>\n  </tbody>\n</table>\n</div>"
     },
     "execution_count": 24,
     "metadata": {},
     "output_type": "execute_result"
    }
   ],
   "source": [
    "cleaned.head()"
   ],
   "metadata": {
    "collapsed": false,
    "ExecuteTime": {
     "end_time": "2023-11-05T16:02:10.439081500Z",
     "start_time": "2023-11-05T16:02:10.394951900Z"
    }
   },
   "id": "d3980fd227ab33b8"
  },
  {
   "cell_type": "markdown",
   "source": [],
   "metadata": {
    "collapsed": false
   },
   "id": "3da9872c16a8f3e2"
  },
  {
   "cell_type": "code",
   "execution_count": 25,
   "outputs": [
    {
     "name": "stderr",
     "output_type": "stream",
     "text": [
      "C:\\Users\\SunagatullinAyaz\\AppData\\Local\\Temp\\ipykernel_47980\\674584907.py:4: SettingWithCopyWarning: \n",
      "A value is trying to be set on a copy of a slice from a DataFrame\n",
      "\n",
      "See the caveats in the documentation: https://pandas.pydata.org/pandas-docs/stable/user_guide/indexing.html#returning-a-view-versus-a-copy\n",
      "  cleaned.iloc[i]['reference'], cleaned.iloc[i]['translation'] = cleaned.iloc[i]['translation'], cleaned.iloc[i]['reference']\n",
      "C:\\Users\\SunagatullinAyaz\\AppData\\Local\\Temp\\ipykernel_47980\\674584907.py:5: SettingWithCopyWarning: \n",
      "A value is trying to be set on a copy of a slice from a DataFrame\n",
      "\n",
      "See the caveats in the documentation: https://pandas.pydata.org/pandas-docs/stable/user_guide/indexing.html#returning-a-view-versus-a-copy\n",
      "  cleaned.iloc[i]['ref_tox'], cleaned.iloc[i]['trn_tox'] = cleaned.iloc[i]['trn_tox'], cleaned.iloc[i]['ref_tox']\n"
     ]
    },
    {
     "data": {
      "text/plain": "                                           reference  \\\n0  alkar flood psychic waste explain high level n...   \n1                                          get nasty   \n2                          well could spare life one   \n3                                 ah monkey get snap   \n4                                      get order put   \n\n                                         translation  similarity  lenght_diff  \\\n0  alkar flood mental waste would explain high le...    0.785171     0.010309   \n1                                     become disgust    0.749687     0.071429   \n2                                    well spare life    0.919051     0.268293   \n3                                        monkey wake    0.664333     0.309524   \n4                                         order kill    0.726639     0.181818   \n\n    ref_tox   trn_tox  ref_len  trn_len  \n0  0.014195  0.981983        8        9  \n1  0.065473  0.999039        2        2  \n2  0.213313  0.985068        5        3  \n3  0.053362  0.994215        4        2  \n4  0.009402  0.999348        3        2  ",
      "text/html": "<div>\n<style scoped>\n    .dataframe tbody tr th:only-of-type {\n        vertical-align: middle;\n    }\n\n    .dataframe tbody tr th {\n        vertical-align: top;\n    }\n\n    .dataframe thead th {\n        text-align: right;\n    }\n</style>\n<table border=\"1\" class=\"dataframe\">\n  <thead>\n    <tr style=\"text-align: right;\">\n      <th></th>\n      <th>reference</th>\n      <th>translation</th>\n      <th>similarity</th>\n      <th>lenght_diff</th>\n      <th>ref_tox</th>\n      <th>trn_tox</th>\n      <th>ref_len</th>\n      <th>trn_len</th>\n    </tr>\n  </thead>\n  <tbody>\n    <tr>\n      <th>0</th>\n      <td>alkar flood psychic waste explain high level n...</td>\n      <td>alkar flood mental waste would explain high le...</td>\n      <td>0.785171</td>\n      <td>0.010309</td>\n      <td>0.014195</td>\n      <td>0.981983</td>\n      <td>8</td>\n      <td>9</td>\n    </tr>\n    <tr>\n      <th>1</th>\n      <td>get nasty</td>\n      <td>become disgust</td>\n      <td>0.749687</td>\n      <td>0.071429</td>\n      <td>0.065473</td>\n      <td>0.999039</td>\n      <td>2</td>\n      <td>2</td>\n    </tr>\n    <tr>\n      <th>2</th>\n      <td>well could spare life one</td>\n      <td>well spare life</td>\n      <td>0.919051</td>\n      <td>0.268293</td>\n      <td>0.213313</td>\n      <td>0.985068</td>\n      <td>5</td>\n      <td>3</td>\n    </tr>\n    <tr>\n      <th>3</th>\n      <td>ah monkey get snap</td>\n      <td>monkey wake</td>\n      <td>0.664333</td>\n      <td>0.309524</td>\n      <td>0.053362</td>\n      <td>0.994215</td>\n      <td>4</td>\n      <td>2</td>\n    </tr>\n    <tr>\n      <th>4</th>\n      <td>get order put</td>\n      <td>order kill</td>\n      <td>0.726639</td>\n      <td>0.181818</td>\n      <td>0.009402</td>\n      <td>0.999348</td>\n      <td>3</td>\n      <td>2</td>\n    </tr>\n  </tbody>\n</table>\n</div>"
     },
     "execution_count": 25,
     "metadata": {},
     "output_type": "execute_result"
    }
   ],
   "source": [
    "# if translation toxicity is higher than reference toxicity, then swap them\n",
    "for i in range(len(cleaned)):\n",
    "    if cleaned.iloc[i]['ref_tox'] < cleaned.iloc[i]['trn_tox']:\n",
    "        cleaned.iloc[i]['reference'], cleaned.iloc[i]['translation'] = cleaned.iloc[i]['translation'], cleaned.iloc[i]['reference']\n",
    "        cleaned.iloc[i]['ref_tox'], cleaned.iloc[i]['trn_tox'] = cleaned.iloc[i]['trn_tox'], cleaned.iloc[i]['ref_tox']\n",
    "        \n",
    "cleaned.head()"
   ],
   "metadata": {
    "collapsed": false,
    "ExecuteTime": {
     "end_time": "2023-11-05T16:06:40.810333900Z",
     "start_time": "2023-11-05T16:02:10.429555600Z"
    }
   },
   "id": "240192ece147ab85"
  },
  {
   "cell_type": "code",
   "execution_count": 27,
   "outputs": [],
   "source": [
    "# save cleaned data as \"cleaned_new.tsv\"\n",
    "cleaned.to_csv('../data/final_cleaned.tsv', sep='\\t', index=False)"
   ],
   "metadata": {
    "collapsed": false,
    "ExecuteTime": {
     "end_time": "2023-11-05T16:06:54.474166100Z",
     "start_time": "2023-11-05T16:06:50.143813100Z"
    }
   },
   "id": "e7426ca04a73eb82"
  }
 ],
 "metadata": {
  "kernelspec": {
   "display_name": "Python 3",
   "language": "python",
   "name": "python3"
  },
  "language_info": {
   "codemirror_mode": {
    "name": "ipython",
    "version": 2
   },
   "file_extension": ".py",
   "mimetype": "text/x-python",
   "name": "python",
   "nbconvert_exporter": "python",
   "pygments_lexer": "ipython2",
   "version": "2.7.6"
  }
 },
 "nbformat": 4,
 "nbformat_minor": 5
}
